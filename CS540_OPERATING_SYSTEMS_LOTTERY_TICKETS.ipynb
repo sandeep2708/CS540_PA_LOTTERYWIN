{
 "cells": [
  {
   "cell_type": "code",
   "execution_count": 8,
   "id": "d814f1f7",
   "metadata": {},
   "outputs": [
    {
     "name": "stdout",
     "output_type": "stream",
     "text": [
      "Process B wins the lottery!\n"
     ]
    }
   ],
   "source": [
    "import random\n",
    "\n",
    "#CREATING THE CLASS \"PROCESS\" WITH PROCESS_ID, LOTTERY_TICKETS\n",
    "\n",
    "class Process:\n",
    "    def __init__(self, process_id, lottery_tickets):\n",
    "        self.process_id = process_id\n",
    "        self.lottery_tickets = lottery_tickets\n",
    "\n",
    "# CREATING THE CLASS SCHEDULER \n",
    "\n",
    "class Scheduler:\n",
    "    def __init__(self):\n",
    "        self.process_list = []\n",
    "        self.total_lottery_tickets = 0\n",
    "\n",
    "    def add_process(self, process):\n",
    "        self.process_list.append(process)\n",
    "        self.total_lottery_tickets += len(process.lottery_tickets)\n",
    "\n",
    "# FUNCTION TO ALLOCATE THE LOTTERY_TICKETS\n",
    "\n",
    "    def allocate_lottery_tickets(self):\n",
    "        for process in self.process_list:\n",
    "            process.lottery_tickets = [process.process_id] * len(process.lottery_tickets)\n",
    "\n",
    "# FUNCTION TO SELECT THE LOTTERY WINNER \n",
    "\n",
    "    def select_lottery_winner(self):\n",
    "        if not self.process_list:\n",
    "            return None\n",
    "\n",
    "        winning_ticket = random.choice(range(self.total_lottery_tickets))\n",
    "        current_sum = 0\n",
    "        winner_index = 0\n",
    "\n",
    "        for i, process in enumerate(self.process_list):  # ENUMERATE TO ITERATE 'I' AND PROCESS IN SELF_PROCESS_LIST\n",
    "            current_sum += len(process.lottery_tickets)\n",
    "            if winning_ticket < current_sum:\n",
    "                winner_index = i\n",
    "                break\n",
    "                \n",
    "        return self.process_list[winner_index]\n",
    "\n",
    "if __name__ == \"__main__\":\n",
    "    # Sample usage with different variable names\n",
    "    lottery_scheduler = Scheduler()\n",
    "\n",
    "    process_a = Process(\"A\", [1, 2, 3, 4, 5])\n",
    "    process_b = Process(\"B\", [6, 7, 8])\n",
    "    process_c = Process(\"C\", [9, 10])\n",
    "\n",
    "    lottery_scheduler.add_process(process_a)\n",
    "    lottery_scheduler.add_process(process_b)\n",
    "    lottery_scheduler.add_process(process_c)\n",
    "\n",
    "    lottery_scheduler.allocate_lottery_tickets()\n",
    "\n",
    "    winner_process = lottery_scheduler.select_lottery_winner()\n",
    "\n",
    "    if winner_process:\n",
    "        print(f\"Process {winner_process.process_id} wins the lottery!\")\n",
    "    else:\n",
    "        print(\"Processes are not available.\")\n"
   ]
  },
  {
   "cell_type": "code",
   "execution_count": null,
   "id": "d2251a42",
   "metadata": {},
   "outputs": [],
   "source": []
  },
  {
   "cell_type": "code",
   "execution_count": null,
   "id": "7805c6f2",
   "metadata": {},
   "outputs": [],
   "source": []
  }
 ],
 "metadata": {
  "kernelspec": {
   "display_name": "Python 3 (ipykernel)",
   "language": "python",
   "name": "python3"
  },
  "language_info": {
   "codemirror_mode": {
    "name": "ipython",
    "version": 3
   },
   "file_extension": ".py",
   "mimetype": "text/x-python",
   "name": "python",
   "nbconvert_exporter": "python",
   "pygments_lexer": "ipython3",
   "version": "3.10.9"
  }
 },
 "nbformat": 4,
 "nbformat_minor": 5
}
